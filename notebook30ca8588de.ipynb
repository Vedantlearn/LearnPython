{
 "cells": [
  {
   "cell_type": "code",
   "execution_count": 1,
   "id": "97881841",
   "metadata": {
    "_cell_guid": "e40177d2-aa80-4bad-a896-0a8a3c7313b0",
    "_uuid": "58725ffe-0d26-419e-8f91-ab656daeaf5a",
    "execution": {
     "iopub.execute_input": "2024-10-19T18:16:35.995748Z",
     "iopub.status.busy": "2024-10-19T18:16:35.995116Z",
     "iopub.status.idle": "2024-10-19T18:16:37.126362Z",
     "shell.execute_reply": "2024-10-19T18:16:37.124913Z"
    },
    "papermill": {
     "duration": 1.14041,
     "end_time": "2024-10-19T18:16:37.129659",
     "exception": false,
     "start_time": "2024-10-19T18:16:35.989249",
     "status": "completed"
    },
    "tags": []
   },
   "outputs": [],
   "source": [
    "# This Python 3 environment comes with many helpful analytics libraries installed\n",
    "# It is defined by the kaggle/python Docker image: https://github.com/kaggle/docker-python\n",
    "# For example, here's several helpful packages to load\n",
    "\n",
    "import numpy as np # linear algebra\n",
    "import pandas as pd # data processing, CSV file I/O (e.g. pd.read_csv)\n",
    "\n",
    "# Input data files are available in the read-only \"../input/\" directory\n",
    "# For example, running this (by clicking run or pressing Shift+Enter) will list all files under the input directory\n",
    "\n",
    "import os\n",
    "for dirname, _, filenames in os.walk('/kaggle/input'):\n",
    "    for filename in filenames:\n",
    "        print(os.path.join(dirname, filename))\n",
    "\n",
    "# You can write up to 20GB to the current directory (/kaggle/working/) that gets preserved as output when you create a version using \"Save & Run All\" \n",
    "# You can also write temporary files to /kaggle/temp/, but they won't be saved outside of the current session"
   ]
  },
  {
   "cell_type": "markdown",
   "id": "732e69b3",
   "metadata": {
    "papermill": {
     "duration": 0.002959,
     "end_time": "2024-10-19T18:16:37.136052",
     "exception": false,
     "start_time": "2024-10-19T18:16:37.133093",
     "status": "completed"
    },
    "tags": []
   },
   "source": [
    "[hello](https://www.google.com/webhp?hl=en&sa=X&ved=0ahUKEwjVnrP9qfeIAxWWWGwGHaG9CpQQPAgI)"
   ]
  },
  {
   "cell_type": "code",
   "execution_count": 2,
   "id": "e0b230dc",
   "metadata": {
    "execution": {
     "iopub.execute_input": "2024-10-19T18:16:37.144190Z",
     "iopub.status.busy": "2024-10-19T18:16:37.143640Z",
     "iopub.status.idle": "2024-10-19T18:16:37.149740Z",
     "shell.execute_reply": "2024-10-19T18:16:37.148334Z"
    },
    "papermill": {
     "duration": 0.01345,
     "end_time": "2024-10-19T18:16:37.152591",
     "exception": false,
     "start_time": "2024-10-19T18:16:37.139141",
     "status": "completed"
    },
    "tags": []
   },
   "outputs": [],
   "source": [
    "first_name = \"vedant\"\n",
    "last_name = \"sharma\""
   ]
  },
  {
   "cell_type": "code",
   "execution_count": 3,
   "id": "dcbcbaf6",
   "metadata": {
    "execution": {
     "iopub.execute_input": "2024-10-19T18:16:37.161002Z",
     "iopub.status.busy": "2024-10-19T18:16:37.160554Z",
     "iopub.status.idle": "2024-10-19T18:16:37.167063Z",
     "shell.execute_reply": "2024-10-19T18:16:37.165776Z"
    },
    "papermill": {
     "duration": 0.014426,
     "end_time": "2024-10-19T18:16:37.170177",
     "exception": false,
     "start_time": "2024-10-19T18:16:37.155751",
     "status": "completed"
    },
    "tags": []
   },
   "outputs": [
    {
     "name": "stdout",
     "output_type": "stream",
     "text": [
      "vedant sharma\n"
     ]
    }
   ],
   "source": [
    "name = first_name + \" \" + last_name\n",
    "print(name)"
   ]
  },
  {
   "cell_type": "code",
   "execution_count": 4,
   "id": "78faa757",
   "metadata": {
    "execution": {
     "iopub.execute_input": "2024-10-19T18:16:37.178555Z",
     "iopub.status.busy": "2024-10-19T18:16:37.178088Z",
     "iopub.status.idle": "2024-10-19T18:16:37.187474Z",
     "shell.execute_reply": "2024-10-19T18:16:37.186217Z"
    },
    "papermill": {
     "duration": 0.01671,
     "end_time": "2024-10-19T18:16:37.190233",
     "exception": false,
     "start_time": "2024-10-19T18:16:37.173523",
     "status": "completed"
    },
    "tags": []
   },
   "outputs": [
    {
     "data": {
      "text/plain": [
       "int"
      ]
     },
     "execution_count": 4,
     "metadata": {},
     "output_type": "execute_result"
    }
   ],
   "source": [
    "a = 3\n",
    "b = 5\n",
    "c = a + b\n",
    "type(c)"
   ]
  },
  {
   "cell_type": "code",
   "execution_count": 5,
   "id": "3028e425",
   "metadata": {
    "execution": {
     "iopub.execute_input": "2024-10-19T18:16:37.199546Z",
     "iopub.status.busy": "2024-10-19T18:16:37.199062Z",
     "iopub.status.idle": "2024-10-19T18:16:37.208564Z",
     "shell.execute_reply": "2024-10-19T18:16:37.207097Z"
    },
    "papermill": {
     "duration": 0.017287,
     "end_time": "2024-10-19T18:16:37.211076",
     "exception": false,
     "start_time": "2024-10-19T18:16:37.193789",
     "status": "completed"
    },
    "tags": []
   },
   "outputs": [
    {
     "name": "stdout",
     "output_type": "stream",
     "text": [
      "False\n"
     ]
    },
    {
     "data": {
      "text/plain": [
       "bool"
      ]
     },
     "execution_count": 5,
     "metadata": {},
     "output_type": "execute_result"
    }
   ],
   "source": [
    "a = 3\n",
    "b = 5\n",
    "c = a > b\n",
    "\n",
    "print(c)\n",
    "\n",
    "type(c)"
   ]
  }
 ],
 "metadata": {
  "kaggle": {
   "accelerator": "none",
   "dataSources": [],
   "dockerImageVersionId": 30761,
   "isGpuEnabled": false,
   "isInternetEnabled": false,
   "language": "python",
   "sourceType": "notebook"
  },
  "kernelspec": {
   "display_name": "Python 3",
   "language": "python",
   "name": "python3"
  },
  "language_info": {
   "codemirror_mode": {
    "name": "ipython",
    "version": 3
   },
   "file_extension": ".py",
   "mimetype": "text/x-python",
   "name": "python",
   "nbconvert_exporter": "python",
   "pygments_lexer": "ipython3",
   "version": "3.10.14"
  },
  "papermill": {
   "default_parameters": {},
   "duration": 5.12521,
   "end_time": "2024-10-19T18:16:37.737291",
   "environment_variables": {},
   "exception": null,
   "input_path": "__notebook__.ipynb",
   "output_path": "__notebook__.ipynb",
   "parameters": {},
   "start_time": "2024-10-19T18:16:32.612081",
   "version": "2.6.0"
  }
 },
 "nbformat": 4,
 "nbformat_minor": 5
}

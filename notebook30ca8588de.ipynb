{
 "cells": [
  {
   "cell_type": "code",
   "execution_count": 1,
   "id": "1e93e547",
   "metadata": {
    "_cell_guid": "e40177d2-aa80-4bad-a896-0a8a3c7313b0",
    "_uuid": "58725ffe-0d26-419e-8f91-ab656daeaf5a",
    "execution": {
     "iopub.execute_input": "2024-11-09T23:11:53.224740Z",
     "iopub.status.busy": "2024-11-09T23:11:53.223573Z",
     "iopub.status.idle": "2024-11-09T23:11:54.239182Z",
     "shell.execute_reply": "2024-11-09T23:11:54.237980Z"
    },
    "papermill": {
     "duration": 1.026606,
     "end_time": "2024-11-09T23:11:54.242179",
     "exception": false,
     "start_time": "2024-11-09T23:11:53.215573",
     "status": "completed"
    },
    "tags": []
   },
   "outputs": [],
   "source": [
    "# This Python 3 environment comes with many helpful analytics libraries installed\n",
    "# It is defined by the kaggle/python Docker image: https://github.com/kaggle/docker-python\n",
    "# For example, here's several helpful packages to load\n",
    "\n",
    "import numpy as np # linear algebra\n",
    "import pandas as pd # data processing, CSV file I/O (e.g. pd.read_csv)\n",
    "\n",
    "# Input data files are available in the read-only \"../input/\" directory\n",
    "# For example, running this (by clicking run or pressing Shift+Enter) will list all files under the input directory\n",
    "\n",
    "import os\n",
    "for dirname, _, filenames in os.walk('/kaggle/input'):\n",
    "    for filename in filenames:\n",
    "        print(os.path.join(dirname, filename))\n",
    "\n",
    "# You can write up to 20GB to the current directory (/kaggle/working/) that gets preserved as output when you create a version using \"Save & Run All\" \n",
    "# You can also write temporary files to /kaggle/temp/, but they won't be saved outside of the current session"
   ]
  },
  {
   "cell_type": "code",
   "execution_count": 2,
   "id": "d64e68aa",
   "metadata": {
    "execution": {
     "iopub.execute_input": "2024-11-09T23:11:54.255849Z",
     "iopub.status.busy": "2024-11-09T23:11:54.254445Z",
     "iopub.status.idle": "2024-11-09T23:11:54.261713Z",
     "shell.execute_reply": "2024-11-09T23:11:54.260595Z"
    },
    "papermill": {
     "duration": 0.016866,
     "end_time": "2024-11-09T23:11:54.264677",
     "exception": false,
     "start_time": "2024-11-09T23:11:54.247811",
     "status": "completed"
    },
    "tags": []
   },
   "outputs": [
    {
     "name": "stdout",
     "output_type": "stream",
     "text": [
      "4 2\n"
     ]
    }
   ],
   "source": [
    "# swap values \n",
    "a=2\n",
    "b=4\n",
    "a=a+b\n",
    "b=a-b\n",
    "a=a-b\n",
    "print(a,b)"
   ]
  },
  {
   "cell_type": "code",
   "execution_count": 3,
   "id": "a5d71f8d",
   "metadata": {
    "execution": {
     "iopub.execute_input": "2024-11-09T23:11:54.277514Z",
     "iopub.status.busy": "2024-11-09T23:11:54.277060Z",
     "iopub.status.idle": "2024-11-09T23:11:54.284601Z",
     "shell.execute_reply": "2024-11-09T23:11:54.283168Z"
    },
    "papermill": {
     "duration": 0.016747,
     "end_time": "2024-11-09T23:11:54.287013",
     "exception": false,
     "start_time": "2024-11-09T23:11:54.270266",
     "status": "completed"
    },
    "tags": []
   },
   "outputs": [
    {
     "name": "stdout",
     "output_type": "stream",
     "text": [
      "9.0\n",
      "the value of total is  2 8\n"
     ]
    }
   ],
   "source": [
    " a,b,c=2,8,9.0\n",
    "x=a*b+c-a/c\n",
    "print(c)\n",
    "\n",
    "print(\"the value of total is \",a,b)"
   ]
  },
  {
   "cell_type": "markdown",
   "id": "2ad06a15",
   "metadata": {
    "papermill": {
     "duration": 0.00512,
     "end_time": "2024-11-09T23:11:54.297567",
     "exception": false,
     "start_time": "2024-11-09T23:11:54.292447",
     "status": "completed"
    },
    "tags": []
   },
   "source": [
    "Reserved Keywords"
   ]
  },
  {
   "cell_type": "markdown",
   "id": "cebcc28a",
   "metadata": {
    "papermill": {
     "duration": 0.005053,
     "end_time": "2024-11-09T23:11:54.307966",
     "exception": false,
     "start_time": "2024-11-09T23:11:54.302913",
     "status": "completed"
    },
    "tags": []
   },
   "source": [
    "Multiple assaingment"
   ]
  },
  {
   "cell_type": "code",
   "execution_count": 4,
   "id": "cf3e82b0",
   "metadata": {
    "execution": {
     "iopub.execute_input": "2024-11-09T23:11:54.320831Z",
     "iopub.status.busy": "2024-11-09T23:11:54.319956Z",
     "iopub.status.idle": "2024-11-09T23:11:54.329832Z",
     "shell.execute_reply": "2024-11-09T23:11:54.328439Z"
    },
    "papermill": {
     "duration": 0.019185,
     "end_time": "2024-11-09T23:11:54.332437",
     "exception": false,
     "start_time": "2024-11-09T23:11:54.313252",
     "status": "completed"
    },
    "tags": []
   },
   "outputs": [
    {
     "data": {
      "text/plain": [
       "(str, 15)"
      ]
     },
     "execution_count": 4,
     "metadata": {},
     "output_type": "execute_result"
    }
   ],
   "source": [
    "#we can assainge two variable simultaneously like \n",
    "\n",
    "a,b = \"ayush jain\",15\n",
    "\n",
    "type(a),(b)"
   ]
  },
  {
   "cell_type": "code",
   "execution_count": 5,
   "id": "0a7b6788",
   "metadata": {
    "execution": {
     "iopub.execute_input": "2024-11-09T23:11:54.345557Z",
     "iopub.status.busy": "2024-11-09T23:11:54.345092Z",
     "iopub.status.idle": "2024-11-09T23:11:54.354023Z",
     "shell.execute_reply": "2024-11-09T23:11:54.352605Z"
    },
    "papermill": {
     "duration": 0.018782,
     "end_time": "2024-11-09T23:11:54.356866",
     "exception": false,
     "start_time": "2024-11-09T23:11:54.338084",
     "status": "completed"
    },
    "tags": []
   },
   "outputs": [
    {
     "name": "stdout",
     "output_type": "stream",
     "text": [
      "Akshya Nagar 1st Block 1st Cross, Rammurthy nagar, Bangalore-560016\n"
     ]
    },
    {
     "data": {
      "text/plain": [
       "str"
      ]
     },
     "execution_count": 5,
     "metadata": {},
     "output_type": "execute_result"
    }
   ],
   "source": [
    "#string and boolean\n",
    "address=\"Akshya Nagar 1st Block 1st Cross, Rammurthy nagar, Bangalore-560016\"\n",
    "print(address)\n",
    "type(address)"
   ]
  },
  {
   "cell_type": "code",
   "execution_count": 6,
   "id": "b3c9266d",
   "metadata": {
    "execution": {
     "iopub.execute_input": "2024-11-09T23:11:54.370721Z",
     "iopub.status.busy": "2024-11-09T23:11:54.370252Z",
     "iopub.status.idle": "2024-11-09T23:11:54.379873Z",
     "shell.execute_reply": "2024-11-09T23:11:54.378722Z"
    },
    "papermill": {
     "duration": 0.019538,
     "end_time": "2024-11-09T23:11:54.382487",
     "exception": false,
     "start_time": "2024-11-09T23:11:54.362949",
     "status": "completed"
    },
    "tags": []
   },
   "outputs": [
    {
     "name": "stdout",
     "output_type": "stream",
     "text": [
      "Ayush nagar\n"
     ]
    },
    {
     "data": {
      "text/plain": [
       "str"
      ]
     },
     "execution_count": 6,
     "metadata": {},
     "output_type": "execute_result"
    }
   ],
   "source": [
    "#Concatinate\n",
    "first_name=\"Ayush\"\n",
    "Last_name=\"nagar\"\n",
    "name = first_name + \" \"+Last_name\n",
    "print(name)\n",
    "type(name)"
   ]
  },
  {
   "cell_type": "code",
   "execution_count": 7,
   "id": "9cdd7bc7",
   "metadata": {
    "execution": {
     "iopub.execute_input": "2024-11-09T23:11:54.396379Z",
     "iopub.status.busy": "2024-11-09T23:11:54.395917Z",
     "iopub.status.idle": "2024-11-09T23:11:54.404911Z",
     "shell.execute_reply": "2024-11-09T23:11:54.403555Z"
    },
    "papermill": {
     "duration": 0.018914,
     "end_time": "2024-11-09T23:11:54.407455",
     "exception": false,
     "start_time": "2024-11-09T23:11:54.388541",
     "status": "completed"
    },
    "tags": []
   },
   "outputs": [
    {
     "name": "stdout",
     "output_type": "stream",
     "text": [
      "True\n"
     ]
    },
    {
     "data": {
      "text/plain": [
       "bool"
      ]
     },
     "execution_count": 7,
     "metadata": {},
     "output_type": "execute_result"
    }
   ],
   "source": [
    "#variable with booleans\n",
    "\n",
    "a=3\n",
    "b=2\n",
    "c=a>b\n",
    "print(c)\n",
    "type(c)"
   ]
  },
  {
   "cell_type": "markdown",
   "id": "6d40286c",
   "metadata": {
    "papermill": {
     "duration": 0.00605,
     "end_time": "2024-11-09T23:11:54.420018",
     "exception": false,
     "start_time": "2024-11-09T23:11:54.413968",
     "status": "completed"
    },
    "tags": []
   },
   "source": [
    "[hello](https://www.google.com/webhp?hl=en&sa=X&ved=0ahUKEwjVnrP9qfeIAxWWWGwGHaG9CpQQPAgI)"
   ]
  },
  {
   "cell_type": "code",
   "execution_count": 8,
   "id": "7d751fd7",
   "metadata": {
    "execution": {
     "iopub.execute_input": "2024-11-09T23:11:54.434861Z",
     "iopub.status.busy": "2024-11-09T23:11:54.434330Z",
     "iopub.status.idle": "2024-11-09T23:11:54.439921Z",
     "shell.execute_reply": "2024-11-09T23:11:54.438671Z"
    },
    "papermill": {
     "duration": 0.016491,
     "end_time": "2024-11-09T23:11:54.442801",
     "exception": false,
     "start_time": "2024-11-09T23:11:54.426310",
     "status": "completed"
    },
    "tags": []
   },
   "outputs": [],
   "source": [
    "first_name = \"vedant\"\n",
    "last_name = \"sharma\""
   ]
  },
  {
   "cell_type": "code",
   "execution_count": 9,
   "id": "c63968c3",
   "metadata": {
    "execution": {
     "iopub.execute_input": "2024-11-09T23:11:54.457587Z",
     "iopub.status.busy": "2024-11-09T23:11:54.457167Z",
     "iopub.status.idle": "2024-11-09T23:11:54.463362Z",
     "shell.execute_reply": "2024-11-09T23:11:54.462142Z"
    },
    "papermill": {
     "duration": 0.016891,
     "end_time": "2024-11-09T23:11:54.466155",
     "exception": false,
     "start_time": "2024-11-09T23:11:54.449264",
     "status": "completed"
    },
    "tags": []
   },
   "outputs": [
    {
     "name": "stdout",
     "output_type": "stream",
     "text": [
      "vedant sharma\n"
     ]
    }
   ],
   "source": [
    "name = first_name + \" \" + last_name\n",
    "print(name)"
   ]
  },
  {
   "cell_type": "code",
   "execution_count": 10,
   "id": "c63e85e9",
   "metadata": {
    "execution": {
     "iopub.execute_input": "2024-11-09T23:11:54.480894Z",
     "iopub.status.busy": "2024-11-09T23:11:54.480432Z",
     "iopub.status.idle": "2024-11-09T23:11:54.488247Z",
     "shell.execute_reply": "2024-11-09T23:11:54.487016Z"
    },
    "papermill": {
     "duration": 0.018711,
     "end_time": "2024-11-09T23:11:54.491312",
     "exception": false,
     "start_time": "2024-11-09T23:11:54.472601",
     "status": "completed"
    },
    "tags": []
   },
   "outputs": [
    {
     "data": {
      "text/plain": [
       "int"
      ]
     },
     "execution_count": 10,
     "metadata": {},
     "output_type": "execute_result"
    }
   ],
   "source": [
    "a = 3\n",
    "b = 5\n",
    "c = a + b\n",
    "type(c)"
   ]
  },
  {
   "cell_type": "code",
   "execution_count": 11,
   "id": "fcc82348",
   "metadata": {
    "execution": {
     "iopub.execute_input": "2024-11-09T23:11:54.506491Z",
     "iopub.status.busy": "2024-11-09T23:11:54.506050Z",
     "iopub.status.idle": "2024-11-09T23:11:54.515225Z",
     "shell.execute_reply": "2024-11-09T23:11:54.513953Z"
    },
    "papermill": {
     "duration": 0.019799,
     "end_time": "2024-11-09T23:11:54.517905",
     "exception": false,
     "start_time": "2024-11-09T23:11:54.498106",
     "status": "completed"
    },
    "tags": []
   },
   "outputs": [
    {
     "name": "stdout",
     "output_type": "stream",
     "text": [
      "False\n"
     ]
    },
    {
     "data": {
      "text/plain": [
       "bool"
      ]
     },
     "execution_count": 11,
     "metadata": {},
     "output_type": "execute_result"
    }
   ],
   "source": [
    "a = 3\n",
    "b = 5\n",
    "c = a > b\n",
    "\n",
    "print(c)\n",
    "\n",
    "type(c)"
   ]
  }
 ],
 "metadata": {
  "kaggle": {
   "accelerator": "none",
   "dataSources": [],
   "dockerImageVersionId": 30761,
   "isGpuEnabled": false,
   "isInternetEnabled": false,
   "language": "python",
   "sourceType": "notebook"
  },
  "kernelspec": {
   "display_name": "Python 3",
   "language": "python",
   "name": "python3"
  },
  "language_info": {
   "codemirror_mode": {
    "name": "ipython",
    "version": 3
   },
   "file_extension": ".py",
   "mimetype": "text/x-python",
   "name": "python",
   "nbconvert_exporter": "python",
   "pygments_lexer": "ipython3",
   "version": "3.10.14"
  },
  "papermill": {
   "default_parameters": {},
   "duration": 5.018506,
   "end_time": "2024-11-09T23:11:55.046085",
   "environment_variables": {},
   "exception": null,
   "input_path": "__notebook__.ipynb",
   "output_path": "__notebook__.ipynb",
   "parameters": {},
   "start_time": "2024-11-09T23:11:50.027579",
   "version": "2.6.0"
  }
 },
 "nbformat": 4,
 "nbformat_minor": 5
}

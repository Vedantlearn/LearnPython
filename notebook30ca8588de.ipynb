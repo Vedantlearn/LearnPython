{
 "cells": [
  {
   "cell_type": "code",
   "execution_count": 1,
   "id": "619966c3",
   "metadata": {
    "_cell_guid": "e40177d2-aa80-4bad-a896-0a8a3c7313b0",
    "_uuid": "58725ffe-0d26-419e-8f91-ab656daeaf5a",
    "execution": {
     "iopub.execute_input": "2024-11-01T17:14:15.711587Z",
     "iopub.status.busy": "2024-11-01T17:14:15.710932Z",
     "iopub.status.idle": "2024-11-01T17:14:16.723647Z",
     "shell.execute_reply": "2024-11-01T17:14:16.722478Z"
    },
    "papermill": {
     "duration": 1.023926,
     "end_time": "2024-11-01T17:14:16.726933",
     "exception": false,
     "start_time": "2024-11-01T17:14:15.703007",
     "status": "completed"
    },
    "tags": []
   },
   "outputs": [],
   "source": [
    "# This Python 3 environment comes with many helpful analytics libraries installed\n",
    "# It is defined by the kaggle/python Docker image: https://github.com/kaggle/docker-python\n",
    "# For example, here's several helpful packages to load\n",
    "\n",
    "import numpy as np # linear algebra\n",
    "import pandas as pd # data processing, CSV file I/O (e.g. pd.read_csv)\n",
    "\n",
    "# Input data files are available in the read-only \"../input/\" directory\n",
    "# For example, running this (by clicking run or pressing Shift+Enter) will list all files under the input directory\n",
    "\n",
    "import os\n",
    "for dirname, _, filenames in os.walk('/kaggle/input'):\n",
    "    for filename in filenames:\n",
    "        print(os.path.join(dirname, filename))\n",
    "\n",
    "# You can write up to 20GB to the current directory (/kaggle/working/) that gets preserved as output when you create a version using \"Save & Run All\" \n",
    "# You can also write temporary files to /kaggle/temp/, but they won't be saved outside of the current session"
   ]
  },
  {
   "cell_type": "markdown",
   "id": "8e19b31f",
   "metadata": {
    "papermill": {
     "duration": 0.004654,
     "end_time": "2024-11-01T17:14:16.736759",
     "exception": false,
     "start_time": "2024-11-01T17:14:16.732105",
     "status": "completed"
    },
    "tags": []
   },
   "source": [
    "Multiple assaingment"
   ]
  },
  {
   "cell_type": "code",
   "execution_count": 2,
   "id": "9442f61f",
   "metadata": {
    "execution": {
     "iopub.execute_input": "2024-11-01T17:14:16.749451Z",
     "iopub.status.busy": "2024-11-01T17:14:16.748058Z",
     "iopub.status.idle": "2024-11-01T17:14:16.758804Z",
     "shell.execute_reply": "2024-11-01T17:14:16.757452Z"
    },
    "papermill": {
     "duration": 0.020217,
     "end_time": "2024-11-01T17:14:16.761780",
     "exception": false,
     "start_time": "2024-11-01T17:14:16.741563",
     "status": "completed"
    },
    "tags": []
   },
   "outputs": [
    {
     "data": {
      "text/plain": [
       "(str, 15)"
      ]
     },
     "execution_count": 2,
     "metadata": {},
     "output_type": "execute_result"
    }
   ],
   "source": [
    "#we can assainge two variable simultaneously like \n",
    "\n",
    "a,b = \"ayush jain\",15\n",
    "\n",
    "type(a),(b)"
   ]
  },
  {
   "cell_type": "code",
   "execution_count": 3,
   "id": "f02692e0",
   "metadata": {
    "execution": {
     "iopub.execute_input": "2024-11-01T17:14:16.773650Z",
     "iopub.status.busy": "2024-11-01T17:14:16.773127Z",
     "iopub.status.idle": "2024-11-01T17:14:16.783011Z",
     "shell.execute_reply": "2024-11-01T17:14:16.781566Z"
    },
    "papermill": {
     "duration": 0.019075,
     "end_time": "2024-11-01T17:14:16.785768",
     "exception": false,
     "start_time": "2024-11-01T17:14:16.766693",
     "status": "completed"
    },
    "tags": []
   },
   "outputs": [
    {
     "name": "stdout",
     "output_type": "stream",
     "text": [
      "Akshya Nagar 1st Block 1st Cross, Rammurthy nagar, Bangalore-560016\n"
     ]
    },
    {
     "data": {
      "text/plain": [
       "str"
      ]
     },
     "execution_count": 3,
     "metadata": {},
     "output_type": "execute_result"
    }
   ],
   "source": [
    "#string and boolean\n",
    "address=\"Akshya Nagar 1st Block 1st Cross, Rammurthy nagar, Bangalore-560016\"\n",
    "print(address)\n",
    "type(address)"
   ]
  },
  {
   "cell_type": "code",
   "execution_count": 4,
   "id": "3e0e1caf",
   "metadata": {
    "execution": {
     "iopub.execute_input": "2024-11-01T17:14:16.797764Z",
     "iopub.status.busy": "2024-11-01T17:14:16.797310Z",
     "iopub.status.idle": "2024-11-01T17:14:16.807445Z",
     "shell.execute_reply": "2024-11-01T17:14:16.805920Z"
    },
    "papermill": {
     "duration": 0.01951,
     "end_time": "2024-11-01T17:14:16.810248",
     "exception": false,
     "start_time": "2024-11-01T17:14:16.790738",
     "status": "completed"
    },
    "tags": []
   },
   "outputs": [
    {
     "name": "stdout",
     "output_type": "stream",
     "text": [
      "Ayush nagar\n"
     ]
    },
    {
     "data": {
      "text/plain": [
       "str"
      ]
     },
     "execution_count": 4,
     "metadata": {},
     "output_type": "execute_result"
    }
   ],
   "source": [
    "#Concatinate\n",
    "first_name=\"Ayush\"\n",
    "Last_name=\"nagar\"\n",
    "name = first_name + \" \"+Last_name\n",
    "print(name)\n",
    "type(name)"
   ]
  },
  {
   "cell_type": "code",
   "execution_count": 5,
   "id": "88ebe8ff",
   "metadata": {
    "execution": {
     "iopub.execute_input": "2024-11-01T17:14:16.823021Z",
     "iopub.status.busy": "2024-11-01T17:14:16.822546Z",
     "iopub.status.idle": "2024-11-01T17:14:16.833016Z",
     "shell.execute_reply": "2024-11-01T17:14:16.831182Z"
    },
    "papermill": {
     "duration": 0.020262,
     "end_time": "2024-11-01T17:14:16.835885",
     "exception": false,
     "start_time": "2024-11-01T17:14:16.815623",
     "status": "completed"
    },
    "tags": []
   },
   "outputs": [
    {
     "name": "stdout",
     "output_type": "stream",
     "text": [
      "True\n"
     ]
    },
    {
     "data": {
      "text/plain": [
       "bool"
      ]
     },
     "execution_count": 5,
     "metadata": {},
     "output_type": "execute_result"
    }
   ],
   "source": [
    "#variable with booleans\n",
    "\n",
    "a=3\n",
    "b=2\n",
    "c=a>b\n",
    "print(c)\n",
    "type(c)"
   ]
  },
  {
   "cell_type": "markdown",
   "id": "57912e64",
   "metadata": {
    "papermill": {
     "duration": 0.005095,
     "end_time": "2024-11-01T17:14:16.846490",
     "exception": false,
     "start_time": "2024-11-01T17:14:16.841395",
     "status": "completed"
    },
    "tags": []
   },
   "source": [
    "[hello](https://www.google.com/webhp?hl=en&sa=X&ved=0ahUKEwjVnrP9qfeIAxWWWGwGHaG9CpQQPAgI)"
   ]
  },
  {
   "cell_type": "code",
   "execution_count": 6,
   "id": "aba45708",
   "metadata": {
    "execution": {
     "iopub.execute_input": "2024-11-01T17:14:16.859446Z",
     "iopub.status.busy": "2024-11-01T17:14:16.858897Z",
     "iopub.status.idle": "2024-11-01T17:14:16.864861Z",
     "shell.execute_reply": "2024-11-01T17:14:16.863533Z"
    },
    "papermill": {
     "duration": 0.015954,
     "end_time": "2024-11-01T17:14:16.867715",
     "exception": false,
     "start_time": "2024-11-01T17:14:16.851761",
     "status": "completed"
    },
    "tags": []
   },
   "outputs": [],
   "source": [
    "first_name = \"vedant\"\n",
    "last_name = \"sharma\""
   ]
  },
  {
   "cell_type": "code",
   "execution_count": 7,
   "id": "de3d5aec",
   "metadata": {
    "execution": {
     "iopub.execute_input": "2024-11-01T17:14:16.880775Z",
     "iopub.status.busy": "2024-11-01T17:14:16.880305Z",
     "iopub.status.idle": "2024-11-01T17:14:16.886970Z",
     "shell.execute_reply": "2024-11-01T17:14:16.885661Z"
    },
    "papermill": {
     "duration": 0.016698,
     "end_time": "2024-11-01T17:14:16.889865",
     "exception": false,
     "start_time": "2024-11-01T17:14:16.873167",
     "status": "completed"
    },
    "tags": []
   },
   "outputs": [
    {
     "name": "stdout",
     "output_type": "stream",
     "text": [
      "vedant sharma\n"
     ]
    }
   ],
   "source": [
    "name = first_name + \" \" + last_name\n",
    "print(name)"
   ]
  },
  {
   "cell_type": "code",
   "execution_count": 8,
   "id": "ac39fb19",
   "metadata": {
    "execution": {
     "iopub.execute_input": "2024-11-01T17:14:16.903289Z",
     "iopub.status.busy": "2024-11-01T17:14:16.902732Z",
     "iopub.status.idle": "2024-11-01T17:14:16.911342Z",
     "shell.execute_reply": "2024-11-01T17:14:16.910156Z"
    },
    "papermill": {
     "duration": 0.018385,
     "end_time": "2024-11-01T17:14:16.913795",
     "exception": false,
     "start_time": "2024-11-01T17:14:16.895410",
     "status": "completed"
    },
    "tags": []
   },
   "outputs": [
    {
     "data": {
      "text/plain": [
       "int"
      ]
     },
     "execution_count": 8,
     "metadata": {},
     "output_type": "execute_result"
    }
   ],
   "source": [
    "a = 3\n",
    "b = 5\n",
    "c = a + b\n",
    "type(c)"
   ]
  },
  {
   "cell_type": "code",
   "execution_count": 9,
   "id": "6ed3cb9b",
   "metadata": {
    "execution": {
     "iopub.execute_input": "2024-11-01T17:14:16.927065Z",
     "iopub.status.busy": "2024-11-01T17:14:16.926604Z",
     "iopub.status.idle": "2024-11-01T17:14:16.935960Z",
     "shell.execute_reply": "2024-11-01T17:14:16.934487Z"
    },
    "papermill": {
     "duration": 0.019052,
     "end_time": "2024-11-01T17:14:16.938511",
     "exception": false,
     "start_time": "2024-11-01T17:14:16.919459",
     "status": "completed"
    },
    "tags": []
   },
   "outputs": [
    {
     "name": "stdout",
     "output_type": "stream",
     "text": [
      "False\n"
     ]
    },
    {
     "data": {
      "text/plain": [
       "bool"
      ]
     },
     "execution_count": 9,
     "metadata": {},
     "output_type": "execute_result"
    }
   ],
   "source": [
    "a = 3\n",
    "b = 5\n",
    "c = a > b\n",
    "\n",
    "print(c)\n",
    "\n",
    "type(c)"
   ]
  }
 ],
 "metadata": {
  "kaggle": {
   "accelerator": "none",
   "dataSources": [],
   "dockerImageVersionId": 30761,
   "isGpuEnabled": false,
   "isInternetEnabled": false,
   "language": "python",
   "sourceType": "notebook"
  },
  "kernelspec": {
   "display_name": "Python 3",
   "language": "python",
   "name": "python3"
  },
  "language_info": {
   "codemirror_mode": {
    "name": "ipython",
    "version": 3
   },
   "file_extension": ".py",
   "mimetype": "text/x-python",
   "name": "python",
   "nbconvert_exporter": "python",
   "pygments_lexer": "ipython3",
   "version": "3.10.14"
  },
  "papermill": {
   "default_parameters": {},
   "duration": 5.156191,
   "end_time": "2024-11-01T17:14:17.568899",
   "environment_variables": {},
   "exception": null,
   "input_path": "__notebook__.ipynb",
   "output_path": "__notebook__.ipynb",
   "parameters": {},
   "start_time": "2024-11-01T17:14:12.412708",
   "version": "2.6.0"
  }
 },
 "nbformat": 4,
 "nbformat_minor": 5
}

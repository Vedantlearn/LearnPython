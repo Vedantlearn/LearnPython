{
 "cells": [
  {
   "cell_type": "code",
   "execution_count": 1,
   "id": "9f3378d2",
   "metadata": {
    "_cell_guid": "e40177d2-aa80-4bad-a896-0a8a3c7313b0",
    "_uuid": "58725ffe-0d26-419e-8f91-ab656daeaf5a",
    "execution": {
     "iopub.execute_input": "2024-10-13T13:51:05.336930Z",
     "iopub.status.busy": "2024-10-13T13:51:05.336229Z",
     "iopub.status.idle": "2024-10-13T13:51:06.442729Z",
     "shell.execute_reply": "2024-10-13T13:51:06.440783Z"
    },
    "papermill": {
     "duration": 1.115946,
     "end_time": "2024-10-13T13:51:06.446483",
     "exception": false,
     "start_time": "2024-10-13T13:51:05.330537",
     "status": "completed"
    },
    "tags": []
   },
   "outputs": [],
   "source": [
    "# This Python 3 environment comes with many helpful analytics libraries installed\n",
    "# It is defined by the kaggle/python Docker image: https://github.com/kaggle/docker-python\n",
    "# For example, here's several helpful packages to load\n",
    "\n",
    "import numpy as np # linear algebra\n",
    "import pandas as pd # data processing, CSV file I/O (e.g. pd.read_csv)\n",
    "\n",
    "# Input data files are available in the read-only \"../input/\" directory\n",
    "# For example, running this (by clicking run or pressing Shift+Enter) will list all files under the input directory\n",
    "\n",
    "import os\n",
    "for dirname, _, filenames in os.walk('/kaggle/input'):\n",
    "    for filename in filenames:\n",
    "        print(os.path.join(dirname, filename))\n",
    "\n",
    "# You can write up to 20GB to the current directory (/kaggle/working/) that gets preserved as output when you create a version using \"Save & Run All\" \n",
    "# You can also write temporary files to /kaggle/temp/, but they won't be saved outside of the current session"
   ]
  },
  {
   "cell_type": "markdown",
   "id": "2a1ea020",
   "metadata": {
    "papermill": {
     "duration": 0.002252,
     "end_time": "2024-10-13T13:51:06.451581",
     "exception": false,
     "start_time": "2024-10-13T13:51:06.449329",
     "status": "completed"
    },
    "tags": []
   },
   "source": [
    "[hello](https://www.google.com/webhp?hl=en&sa=X&ved=0ahUKEwjVnrP9qfeIAxWWWGwGHaG9CpQQPAgI)"
   ]
  },
  {
   "cell_type": "code",
   "execution_count": 2,
   "id": "2d340a6c",
   "metadata": {
    "_cell_guid": "12ebfe3c-41c2-48af-9c11-c6a811fa0490",
    "_uuid": "de33e3f3-a4db-444e-a08e-84116250ce53",
    "execution": {
     "iopub.execute_input": "2024-10-13T13:51:06.458493Z",
     "iopub.status.busy": "2024-10-13T13:51:06.457723Z",
     "iopub.status.idle": "2024-10-13T13:51:06.464501Z",
     "shell.execute_reply": "2024-10-13T13:51:06.463251Z"
    },
    "papermill": {
     "duration": 0.014174,
     "end_time": "2024-10-13T13:51:06.467970",
     "exception": false,
     "start_time": "2024-10-13T13:51:06.453796",
     "status": "completed"
    },
    "tags": []
   },
   "outputs": [
    {
     "name": "stdout",
     "output_type": "stream",
     "text": [
      "hello data analytics!!!\n"
     ]
    }
   ],
   "source": [
    "print(\"hello data analytics!!!\")"
   ]
  }
 ],
 "metadata": {
  "kaggle": {
   "accelerator": "none",
   "dataSources": [],
   "dockerImageVersionId": 30761,
   "isGpuEnabled": false,
   "isInternetEnabled": false,
   "language": "python",
   "sourceType": "notebook"
  },
  "kernelspec": {
   "display_name": "Python 3",
   "language": "python",
   "name": "python3"
  },
  "language_info": {
   "codemirror_mode": {
    "name": "ipython",
    "version": 3
   },
   "file_extension": ".py",
   "mimetype": "text/x-python",
   "name": "python",
   "nbconvert_exporter": "python",
   "pygments_lexer": "ipython3",
   "version": "3.10.14"
  },
  "papermill": {
   "default_parameters": {},
   "duration": 5.356858,
   "end_time": "2024-10-13T13:51:07.195133",
   "environment_variables": {},
   "exception": null,
   "input_path": "__notebook__.ipynb",
   "output_path": "__notebook__.ipynb",
   "parameters": {},
   "start_time": "2024-10-13T13:51:01.838275",
   "version": "2.6.0"
  }
 },
 "nbformat": 4,
 "nbformat_minor": 5
}

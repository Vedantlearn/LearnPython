{
 "cells": [
  {
   "cell_type": "code",
   "execution_count": 1,
   "id": "d7fbe7d3",
   "metadata": {
    "_cell_guid": "e40177d2-aa80-4bad-a896-0a8a3c7313b0",
    "_uuid": "58725ffe-0d26-419e-8f91-ab656daeaf5a",
    "execution": {
     "iopub.execute_input": "2024-10-15T15:16:23.609160Z",
     "iopub.status.busy": "2024-10-15T15:16:23.608712Z",
     "iopub.status.idle": "2024-10-15T15:16:24.419542Z",
     "shell.execute_reply": "2024-10-15T15:16:24.418464Z"
    },
    "papermill": {
     "duration": 0.818039,
     "end_time": "2024-10-15T15:16:24.422170",
     "exception": false,
     "start_time": "2024-10-15T15:16:23.604131",
     "status": "completed"
    },
    "tags": []
   },
   "outputs": [],
   "source": [
    "# This Python 3 environment comes with many helpful analytics libraries installed\n",
    "# It is defined by the kaggle/python Docker image: https://github.com/kaggle/docker-python\n",
    "# For example, here's several helpful packages to load\n",
    "\n",
    "import numpy as np # linear algebra\n",
    "import pandas as pd # data processing, CSV file I/O (e.g. pd.read_csv)\n",
    "\n",
    "# Input data files are available in the read-only \"../input/\" directory\n",
    "# For example, running this (by clicking run or pressing Shift+Enter) will list all files under the input directory\n",
    "\n",
    "import os\n",
    "for dirname, _, filenames in os.walk('/kaggle/input'):\n",
    "    for filename in filenames:\n",
    "        print(os.path.join(dirname, filename))\n",
    "\n",
    "# You can write up to 20GB to the current directory (/kaggle/working/) that gets preserved as output when you create a version using \"Save & Run All\" \n",
    "# You can also write temporary files to /kaggle/temp/, but they won't be saved outside of the current session"
   ]
  },
  {
   "cell_type": "markdown",
   "id": "6f43ad0f",
   "metadata": {
    "papermill": {
     "duration": 0.002146,
     "end_time": "2024-10-15T15:16:24.427032",
     "exception": false,
     "start_time": "2024-10-15T15:16:24.424886",
     "status": "completed"
    },
    "tags": []
   },
   "source": [
    "[hello](https://www.google.com/webhp?hl=en&sa=X&ved=0ahUKEwjVnrP9qfeIAxWWWGwGHaG9CpQQPAgI)"
   ]
  },
  {
   "cell_type": "code",
   "execution_count": 2,
   "id": "9e29bfa6",
   "metadata": {
    "execution": {
     "iopub.execute_input": "2024-10-15T15:16:24.434303Z",
     "iopub.status.busy": "2024-10-15T15:16:24.433402Z",
     "iopub.status.idle": "2024-10-15T15:16:24.438197Z",
     "shell.execute_reply": "2024-10-15T15:16:24.437163Z"
    },
    "papermill": {
     "duration": 0.010543,
     "end_time": "2024-10-15T15:16:24.440333",
     "exception": false,
     "start_time": "2024-10-15T15:16:24.429790",
     "status": "completed"
    },
    "tags": []
   },
   "outputs": [],
   "source": [
    "first_name = \"vedant\"\n",
    "last_name = \"sharma\""
   ]
  },
  {
   "cell_type": "code",
   "execution_count": 3,
   "id": "ed36d23d",
   "metadata": {
    "execution": {
     "iopub.execute_input": "2024-10-15T15:16:24.446938Z",
     "iopub.status.busy": "2024-10-15T15:16:24.446544Z",
     "iopub.status.idle": "2024-10-15T15:16:24.452107Z",
     "shell.execute_reply": "2024-10-15T15:16:24.451058Z"
    },
    "papermill": {
     "duration": 0.012297,
     "end_time": "2024-10-15T15:16:24.455132",
     "exception": false,
     "start_time": "2024-10-15T15:16:24.442835",
     "status": "completed"
    },
    "tags": []
   },
   "outputs": [
    {
     "name": "stdout",
     "output_type": "stream",
     "text": [
      "vedant sharma\n"
     ]
    }
   ],
   "source": [
    "name = first_name + \" \" + last_name\n",
    "print(name)"
   ]
  },
  {
   "cell_type": "code",
   "execution_count": 4,
   "id": "bc56a9b5",
   "metadata": {
    "execution": {
     "iopub.execute_input": "2024-10-15T15:16:24.461790Z",
     "iopub.status.busy": "2024-10-15T15:16:24.461403Z",
     "iopub.status.idle": "2024-10-15T15:16:24.469095Z",
     "shell.execute_reply": "2024-10-15T15:16:24.468043Z"
    },
    "papermill": {
     "duration": 0.013789,
     "end_time": "2024-10-15T15:16:24.471474",
     "exception": false,
     "start_time": "2024-10-15T15:16:24.457685",
     "status": "completed"
    },
    "tags": []
   },
   "outputs": [
    {
     "data": {
      "text/plain": [
       "int"
      ]
     },
     "execution_count": 4,
     "metadata": {},
     "output_type": "execute_result"
    }
   ],
   "source": [
    "a = 3\n",
    "b = 5\n",
    "c = a + b\n",
    "type(c)"
   ]
  },
  {
   "cell_type": "code",
   "execution_count": 5,
   "id": "1e206941",
   "metadata": {
    "execution": {
     "iopub.execute_input": "2024-10-15T15:16:24.478932Z",
     "iopub.status.busy": "2024-10-15T15:16:24.478021Z",
     "iopub.status.idle": "2024-10-15T15:16:24.486370Z",
     "shell.execute_reply": "2024-10-15T15:16:24.485284Z"
    },
    "papermill": {
     "duration": 0.014388,
     "end_time": "2024-10-15T15:16:24.488531",
     "exception": false,
     "start_time": "2024-10-15T15:16:24.474143",
     "status": "completed"
    },
    "tags": []
   },
   "outputs": [
    {
     "name": "stdout",
     "output_type": "stream",
     "text": [
      "False\n"
     ]
    },
    {
     "data": {
      "text/plain": [
       "bool"
      ]
     },
     "execution_count": 5,
     "metadata": {},
     "output_type": "execute_result"
    }
   ],
   "source": [
    "a = 3\n",
    "b = 5\n",
    "c = a > b\n",
    "\n",
    "print(c)\n",
    "\n",
    "type(c)"
   ]
  }
 ],
 "metadata": {
  "kaggle": {
   "accelerator": "none",
   "dataSources": [],
   "dockerImageVersionId": 30761,
   "isGpuEnabled": false,
   "isInternetEnabled": false,
   "language": "python",
   "sourceType": "notebook"
  },
  "kernelspec": {
   "display_name": "Python 3",
   "language": "python",
   "name": "python3"
  },
  "language_info": {
   "codemirror_mode": {
    "name": "ipython",
    "version": 3
   },
   "file_extension": ".py",
   "mimetype": "text/x-python",
   "name": "python",
   "nbconvert_exporter": "python",
   "pygments_lexer": "ipython3",
   "version": "3.10.14"
  },
  "papermill": {
   "default_parameters": {},
   "duration": 4.146452,
   "end_time": "2024-10-15T15:16:25.011859",
   "environment_variables": {},
   "exception": null,
   "input_path": "__notebook__.ipynb",
   "output_path": "__notebook__.ipynb",
   "parameters": {},
   "start_time": "2024-10-15T15:16:20.865407",
   "version": "2.6.0"
  }
 },
 "nbformat": 4,
 "nbformat_minor": 5
}

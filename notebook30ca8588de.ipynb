{
 "cells": [
  {
   "cell_type": "code",
   "execution_count": 1,
   "id": "5e934790",
   "metadata": {
    "_cell_guid": "e40177d2-aa80-4bad-a896-0a8a3c7313b0",
    "_uuid": "58725ffe-0d26-419e-8f91-ab656daeaf5a",
    "execution": {
     "iopub.execute_input": "2024-11-03T04:01:58.128725Z",
     "iopub.status.busy": "2024-11-03T04:01:58.128194Z",
     "iopub.status.idle": "2024-11-03T04:01:59.133225Z",
     "shell.execute_reply": "2024-11-03T04:01:59.131889Z"
    },
    "papermill": {
     "duration": 1.013566,
     "end_time": "2024-11-03T04:01:59.136008",
     "exception": false,
     "start_time": "2024-11-03T04:01:58.122442",
     "status": "completed"
    },
    "tags": []
   },
   "outputs": [],
   "source": [
    "# This Python 3 environment comes with many helpful analytics libraries installed\n",
    "# It is defined by the kaggle/python Docker image: https://github.com/kaggle/docker-python\n",
    "# For example, here's several helpful packages to load\n",
    "\n",
    "import numpy as np # linear algebra\n",
    "import pandas as pd # data processing, CSV file I/O (e.g. pd.read_csv)\n",
    "\n",
    "# Input data files are available in the read-only \"../input/\" directory\n",
    "# For example, running this (by clicking run or pressing Shift+Enter) will list all files under the input directory\n",
    "\n",
    "import os\n",
    "for dirname, _, filenames in os.walk('/kaggle/input'):\n",
    "    for filename in filenames:\n",
    "        print(os.path.join(dirname, filename))\n",
    "\n",
    "# You can write up to 20GB to the current directory (/kaggle/working/) that gets preserved as output when you create a version using \"Save & Run All\" \n",
    "# You can also write temporary files to /kaggle/temp/, but they won't be saved outside of the current session"
   ]
  },
  {
   "cell_type": "markdown",
   "id": "ab648f6b",
   "metadata": {
    "papermill": {
     "duration": 0.003115,
     "end_time": "2024-11-03T04:01:59.142777",
     "exception": false,
     "start_time": "2024-11-03T04:01:59.139662",
     "status": "completed"
    },
    "tags": []
   },
   "source": [
    "Multiple assaingment"
   ]
  },
  {
   "cell_type": "code",
   "execution_count": 2,
   "id": "d8d38177",
   "metadata": {
    "execution": {
     "iopub.execute_input": "2024-11-03T04:01:59.151525Z",
     "iopub.status.busy": "2024-11-03T04:01:59.151011Z",
     "iopub.status.idle": "2024-11-03T04:01:59.160034Z",
     "shell.execute_reply": "2024-11-03T04:01:59.158509Z"
    },
    "papermill": {
     "duration": 0.016254,
     "end_time": "2024-11-03T04:01:59.162433",
     "exception": false,
     "start_time": "2024-11-03T04:01:59.146179",
     "status": "completed"
    },
    "tags": []
   },
   "outputs": [
    {
     "data": {
      "text/plain": [
       "(str, 15)"
      ]
     },
     "execution_count": 2,
     "metadata": {},
     "output_type": "execute_result"
    }
   ],
   "source": [
    "#we can assainge two variable simultaneously like \n",
    "\n",
    "a,b = \"ayush jain\",15\n",
    "\n",
    "type(a),(b)"
   ]
  },
  {
   "cell_type": "code",
   "execution_count": 3,
   "id": "cf6cfd76",
   "metadata": {
    "execution": {
     "iopub.execute_input": "2024-11-03T04:01:59.172301Z",
     "iopub.status.busy": "2024-11-03T04:01:59.171094Z",
     "iopub.status.idle": "2024-11-03T04:01:59.180061Z",
     "shell.execute_reply": "2024-11-03T04:01:59.178552Z"
    },
    "papermill": {
     "duration": 0.01662,
     "end_time": "2024-11-03T04:01:59.182751",
     "exception": false,
     "start_time": "2024-11-03T04:01:59.166131",
     "status": "completed"
    },
    "tags": []
   },
   "outputs": [
    {
     "name": "stdout",
     "output_type": "stream",
     "text": [
      "Akshya Nagar 1st Block 1st Cross, Rammurthy nagar, Bangalore-560016\n"
     ]
    },
    {
     "data": {
      "text/plain": [
       "str"
      ]
     },
     "execution_count": 3,
     "metadata": {},
     "output_type": "execute_result"
    }
   ],
   "source": [
    "#string and boolean\n",
    "address=\"Akshya Nagar 1st Block 1st Cross, Rammurthy nagar, Bangalore-560016\"\n",
    "print(address)\n",
    "type(address)"
   ]
  },
  {
   "cell_type": "code",
   "execution_count": 4,
   "id": "8434f142",
   "metadata": {
    "execution": {
     "iopub.execute_input": "2024-11-03T04:01:59.192096Z",
     "iopub.status.busy": "2024-11-03T04:01:59.191655Z",
     "iopub.status.idle": "2024-11-03T04:01:59.200498Z",
     "shell.execute_reply": "2024-11-03T04:01:59.198617Z"
    },
    "papermill": {
     "duration": 0.017107,
     "end_time": "2024-11-03T04:01:59.203616",
     "exception": false,
     "start_time": "2024-11-03T04:01:59.186509",
     "status": "completed"
    },
    "tags": []
   },
   "outputs": [
    {
     "name": "stdout",
     "output_type": "stream",
     "text": [
      "Ayush nagar\n"
     ]
    },
    {
     "data": {
      "text/plain": [
       "str"
      ]
     },
     "execution_count": 4,
     "metadata": {},
     "output_type": "execute_result"
    }
   ],
   "source": [
    "#Concatinate\n",
    "first_name=\"Ayush\"\n",
    "Last_name=\"nagar\"\n",
    "name = first_name + \" \"+Last_name\n",
    "print(name)\n",
    "type(name)"
   ]
  },
  {
   "cell_type": "code",
   "execution_count": 5,
   "id": "1041e4ce",
   "metadata": {
    "execution": {
     "iopub.execute_input": "2024-11-03T04:01:59.213203Z",
     "iopub.status.busy": "2024-11-03T04:01:59.212743Z",
     "iopub.status.idle": "2024-11-03T04:01:59.221689Z",
     "shell.execute_reply": "2024-11-03T04:01:59.220417Z"
    },
    "papermill": {
     "duration": 0.016468,
     "end_time": "2024-11-03T04:01:59.224059",
     "exception": false,
     "start_time": "2024-11-03T04:01:59.207591",
     "status": "completed"
    },
    "tags": []
   },
   "outputs": [
    {
     "name": "stdout",
     "output_type": "stream",
     "text": [
      "True\n"
     ]
    },
    {
     "data": {
      "text/plain": [
       "bool"
      ]
     },
     "execution_count": 5,
     "metadata": {},
     "output_type": "execute_result"
    }
   ],
   "source": [
    "#variable with booleans\n",
    "\n",
    "a=3\n",
    "b=2\n",
    "c=a>b\n",
    "print(c)\n",
    "type(c)"
   ]
  },
  {
   "cell_type": "markdown",
   "id": "469151d9",
   "metadata": {
    "papermill": {
     "duration": 0.003779,
     "end_time": "2024-11-03T04:01:59.231961",
     "exception": false,
     "start_time": "2024-11-03T04:01:59.228182",
     "status": "completed"
    },
    "tags": []
   },
   "source": [
    "[hello](https://www.google.com/webhp?hl=en&sa=X&ved=0ahUKEwjVnrP9qfeIAxWWWGwGHaG9CpQQPAgI)"
   ]
  },
  {
   "cell_type": "code",
   "execution_count": 6,
   "id": "787618e2",
   "metadata": {
    "execution": {
     "iopub.execute_input": "2024-11-03T04:01:59.242035Z",
     "iopub.status.busy": "2024-11-03T04:01:59.241577Z",
     "iopub.status.idle": "2024-11-03T04:01:59.247037Z",
     "shell.execute_reply": "2024-11-03T04:01:59.245733Z"
    },
    "papermill": {
     "duration": 0.013299,
     "end_time": "2024-11-03T04:01:59.249312",
     "exception": false,
     "start_time": "2024-11-03T04:01:59.236013",
     "status": "completed"
    },
    "tags": []
   },
   "outputs": [],
   "source": [
    "first_name = \"vedant\"\n",
    "last_name = \"sharma\""
   ]
  },
  {
   "cell_type": "code",
   "execution_count": 7,
   "id": "cdc145dc",
   "metadata": {
    "execution": {
     "iopub.execute_input": "2024-11-03T04:01:59.259660Z",
     "iopub.status.busy": "2024-11-03T04:01:59.258679Z",
     "iopub.status.idle": "2024-11-03T04:01:59.264938Z",
     "shell.execute_reply": "2024-11-03T04:01:59.263613Z"
    },
    "papermill": {
     "duration": 0.014063,
     "end_time": "2024-11-03T04:01:59.267456",
     "exception": false,
     "start_time": "2024-11-03T04:01:59.253393",
     "status": "completed"
    },
    "tags": []
   },
   "outputs": [
    {
     "name": "stdout",
     "output_type": "stream",
     "text": [
      "vedant sharma\n"
     ]
    }
   ],
   "source": [
    "name = first_name + \" \" + last_name\n",
    "print(name)"
   ]
  },
  {
   "cell_type": "code",
   "execution_count": 8,
   "id": "cec447b7",
   "metadata": {
    "execution": {
     "iopub.execute_input": "2024-11-03T04:01:59.278026Z",
     "iopub.status.busy": "2024-11-03T04:01:59.277568Z",
     "iopub.status.idle": "2024-11-03T04:01:59.285127Z",
     "shell.execute_reply": "2024-11-03T04:01:59.283762Z"
    },
    "papermill": {
     "duration": 0.015676,
     "end_time": "2024-11-03T04:01:59.287707",
     "exception": false,
     "start_time": "2024-11-03T04:01:59.272031",
     "status": "completed"
    },
    "tags": []
   },
   "outputs": [
    {
     "data": {
      "text/plain": [
       "int"
      ]
     },
     "execution_count": 8,
     "metadata": {},
     "output_type": "execute_result"
    }
   ],
   "source": [
    "a = 3\n",
    "b = 5\n",
    "c = a + b\n",
    "type(c)"
   ]
  },
  {
   "cell_type": "code",
   "execution_count": 9,
   "id": "75c6c9cd",
   "metadata": {
    "execution": {
     "iopub.execute_input": "2024-11-03T04:01:59.298545Z",
     "iopub.status.busy": "2024-11-03T04:01:59.298129Z",
     "iopub.status.idle": "2024-11-03T04:01:59.306880Z",
     "shell.execute_reply": "2024-11-03T04:01:59.305448Z"
    },
    "papermill": {
     "duration": 0.017336,
     "end_time": "2024-11-03T04:01:59.309464",
     "exception": false,
     "start_time": "2024-11-03T04:01:59.292128",
     "status": "completed"
    },
    "tags": []
   },
   "outputs": [
    {
     "name": "stdout",
     "output_type": "stream",
     "text": [
      "False\n"
     ]
    },
    {
     "data": {
      "text/plain": [
       "bool"
      ]
     },
     "execution_count": 9,
     "metadata": {},
     "output_type": "execute_result"
    }
   ],
   "source": [
    "a = 3\n",
    "b = 5\n",
    "c = a > b\n",
    "\n",
    "print(c)\n",
    "\n",
    "type(c)"
   ]
  }
 ],
 "metadata": {
  "kaggle": {
   "accelerator": "none",
   "dataSources": [],
   "dockerImageVersionId": 30761,
   "isGpuEnabled": false,
   "isInternetEnabled": false,
   "language": "python",
   "sourceType": "notebook"
  },
  "kernelspec": {
   "display_name": "Python 3",
   "language": "python",
   "name": "python3"
  },
  "language_info": {
   "codemirror_mode": {
    "name": "ipython",
    "version": 3
   },
   "file_extension": ".py",
   "mimetype": "text/x-python",
   "name": "python",
   "nbconvert_exporter": "python",
   "pygments_lexer": "ipython3",
   "version": "3.10.14"
  },
  "papermill": {
   "default_parameters": {},
   "duration": 4.771602,
   "end_time": "2024-11-03T04:01:59.838648",
   "environment_variables": {},
   "exception": null,
   "input_path": "__notebook__.ipynb",
   "output_path": "__notebook__.ipynb",
   "parameters": {},
   "start_time": "2024-11-03T04:01:55.067046",
   "version": "2.6.0"
  }
 },
 "nbformat": 4,
 "nbformat_minor": 5
}

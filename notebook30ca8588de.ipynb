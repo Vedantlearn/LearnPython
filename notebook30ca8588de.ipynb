{
 "cells": [
  {
   "cell_type": "code",
   "execution_count": 1,
   "id": "b29cef96",
   "metadata": {
    "_cell_guid": "e40177d2-aa80-4bad-a896-0a8a3c7313b0",
    "_uuid": "58725ffe-0d26-419e-8f91-ab656daeaf5a",
    "execution": {
     "iopub.execute_input": "2024-11-01T17:13:44.116002Z",
     "iopub.status.busy": "2024-11-01T17:13:44.115162Z",
     "iopub.status.idle": "2024-11-01T17:13:44.970946Z",
     "shell.execute_reply": "2024-11-01T17:13:44.970009Z"
    },
    "papermill": {
     "duration": 0.863726,
     "end_time": "2024-11-01T17:13:44.973544",
     "exception": false,
     "start_time": "2024-11-01T17:13:44.109818",
     "status": "completed"
    },
    "tags": []
   },
   "outputs": [],
   "source": [
    "# This Python 3 environment comes with many helpful analytics libraries installed\n",
    "# It is defined by the kaggle/python Docker image: https://github.com/kaggle/docker-python\n",
    "# For example, here's several helpful packages to load\n",
    "\n",
    "import numpy as np # linear algebra\n",
    "import pandas as pd # data processing, CSV file I/O (e.g. pd.read_csv)\n",
    "\n",
    "# Input data files are available in the read-only \"../input/\" directory\n",
    "# For example, running this (by clicking run or pressing Shift+Enter) will list all files under the input directory\n",
    "\n",
    "import os\n",
    "for dirname, _, filenames in os.walk('/kaggle/input'):\n",
    "    for filename in filenames:\n",
    "        print(os.path.join(dirname, filename))\n",
    "\n",
    "# You can write up to 20GB to the current directory (/kaggle/working/) that gets preserved as output when you create a version using \"Save & Run All\" \n",
    "# You can also write temporary files to /kaggle/temp/, but they won't be saved outside of the current session"
   ]
  },
  {
   "cell_type": "markdown",
   "id": "d9339edf",
   "metadata": {
    "papermill": {
     "duration": 0.002984,
     "end_time": "2024-11-01T17:13:44.980051",
     "exception": false,
     "start_time": "2024-11-01T17:13:44.977067",
     "status": "completed"
    },
    "tags": []
   },
   "source": [
    "Multiple assaingment"
   ]
  },
  {
   "cell_type": "code",
   "execution_count": 2,
   "id": "e5f27b9b",
   "metadata": {
    "execution": {
     "iopub.execute_input": "2024-11-01T17:13:44.988167Z",
     "iopub.status.busy": "2024-11-01T17:13:44.987642Z",
     "iopub.status.idle": "2024-11-01T17:13:44.995273Z",
     "shell.execute_reply": "2024-11-01T17:13:44.994308Z"
    },
    "papermill": {
     "duration": 0.014193,
     "end_time": "2024-11-01T17:13:44.997418",
     "exception": false,
     "start_time": "2024-11-01T17:13:44.983225",
     "status": "completed"
    },
    "tags": []
   },
   "outputs": [
    {
     "data": {
      "text/plain": [
       "(str, 15)"
      ]
     },
     "execution_count": 2,
     "metadata": {},
     "output_type": "execute_result"
    }
   ],
   "source": [
    "#we can assainge two variable simultaneously like \n",
    "\n",
    "a,b = \"ayush jain\",15\n",
    "\n",
    "type(a),(b)"
   ]
  },
  {
   "cell_type": "code",
   "execution_count": 3,
   "id": "574dfd2b",
   "metadata": {
    "execution": {
     "iopub.execute_input": "2024-11-01T17:13:45.005572Z",
     "iopub.status.busy": "2024-11-01T17:13:45.005195Z",
     "iopub.status.idle": "2024-11-01T17:13:45.012671Z",
     "shell.execute_reply": "2024-11-01T17:13:45.011259Z"
    },
    "papermill": {
     "duration": 0.014567,
     "end_time": "2024-11-01T17:13:45.015337",
     "exception": false,
     "start_time": "2024-11-01T17:13:45.000770",
     "status": "completed"
    },
    "tags": []
   },
   "outputs": [
    {
     "name": "stdout",
     "output_type": "stream",
     "text": [
      "Akshya Nagar 1st Block 1st Cross, Rammurthy nagar, Bangalore-560016\n"
     ]
    },
    {
     "data": {
      "text/plain": [
       "str"
      ]
     },
     "execution_count": 3,
     "metadata": {},
     "output_type": "execute_result"
    }
   ],
   "source": [
    "#string and boolean\n",
    "address=\"Akshya Nagar 1st Block 1st Cross, Rammurthy nagar, Bangalore-560016\"\n",
    "print(address)\n",
    "type(address)"
   ]
  },
  {
   "cell_type": "code",
   "execution_count": 4,
   "id": "f23eab6b",
   "metadata": {
    "execution": {
     "iopub.execute_input": "2024-11-01T17:13:45.023838Z",
     "iopub.status.busy": "2024-11-01T17:13:45.023479Z",
     "iopub.status.idle": "2024-11-01T17:13:45.031119Z",
     "shell.execute_reply": "2024-11-01T17:13:45.029864Z"
    },
    "papermill": {
     "duration": 0.01486,
     "end_time": "2024-11-01T17:13:45.033747",
     "exception": false,
     "start_time": "2024-11-01T17:13:45.018887",
     "status": "completed"
    },
    "tags": []
   },
   "outputs": [
    {
     "name": "stdout",
     "output_type": "stream",
     "text": [
      "Ayush nagar\n"
     ]
    },
    {
     "data": {
      "text/plain": [
       "str"
      ]
     },
     "execution_count": 4,
     "metadata": {},
     "output_type": "execute_result"
    }
   ],
   "source": [
    "#Concatinate\n",
    "first_name=\"Ayush\"\n",
    "Last_name=\"nagar\"\n",
    "name = first_name + \" \"+Last_name\n",
    "print(name)\n",
    "type(name)"
   ]
  },
  {
   "cell_type": "code",
   "execution_count": 5,
   "id": "eea95d79",
   "metadata": {
    "execution": {
     "iopub.execute_input": "2024-11-01T17:13:45.042687Z",
     "iopub.status.busy": "2024-11-01T17:13:45.042339Z",
     "iopub.status.idle": "2024-11-01T17:13:45.049700Z",
     "shell.execute_reply": "2024-11-01T17:13:45.048375Z"
    },
    "papermill": {
     "duration": 0.015364,
     "end_time": "2024-11-01T17:13:45.052889",
     "exception": false,
     "start_time": "2024-11-01T17:13:45.037525",
     "status": "completed"
    },
    "tags": []
   },
   "outputs": [
    {
     "name": "stdout",
     "output_type": "stream",
     "text": [
      "True\n"
     ]
    },
    {
     "data": {
      "text/plain": [
       "bool"
      ]
     },
     "execution_count": 5,
     "metadata": {},
     "output_type": "execute_result"
    }
   ],
   "source": [
    "#variable with booleans\n",
    "\n",
    "a=3\n",
    "b=2\n",
    "c=a>b\n",
    "print(c)\n",
    "type(c)"
   ]
  },
  {
   "cell_type": "markdown",
   "id": "0c9556d4",
   "metadata": {
    "papermill": {
     "duration": 0.003595,
     "end_time": "2024-11-01T17:13:45.060347",
     "exception": false,
     "start_time": "2024-11-01T17:13:45.056752",
     "status": "completed"
    },
    "tags": []
   },
   "source": [
    "[hello](https://www.google.com/webhp?hl=en&sa=X&ved=0ahUKEwjVnrP9qfeIAxWWWGwGHaG9CpQQPAgI)"
   ]
  },
  {
   "cell_type": "code",
   "execution_count": 6,
   "id": "35459844",
   "metadata": {
    "execution": {
     "iopub.execute_input": "2024-11-01T17:13:45.069535Z",
     "iopub.status.busy": "2024-11-01T17:13:45.069139Z",
     "iopub.status.idle": "2024-11-01T17:13:45.073765Z",
     "shell.execute_reply": "2024-11-01T17:13:45.072761Z"
    },
    "papermill": {
     "duration": 0.011936,
     "end_time": "2024-11-01T17:13:45.076028",
     "exception": false,
     "start_time": "2024-11-01T17:13:45.064092",
     "status": "completed"
    },
    "tags": []
   },
   "outputs": [],
   "source": [
    "first_name = \"vedant\"\n",
    "last_name = \"sharma\""
   ]
  },
  {
   "cell_type": "code",
   "execution_count": 7,
   "id": "8a314150",
   "metadata": {
    "execution": {
     "iopub.execute_input": "2024-11-01T17:13:45.086654Z",
     "iopub.status.busy": "2024-11-01T17:13:45.085930Z",
     "iopub.status.idle": "2024-11-01T17:13:45.090924Z",
     "shell.execute_reply": "2024-11-01T17:13:45.090024Z"
    },
    "papermill": {
     "duration": 0.013194,
     "end_time": "2024-11-01T17:13:45.093097",
     "exception": false,
     "start_time": "2024-11-01T17:13:45.079903",
     "status": "completed"
    },
    "tags": []
   },
   "outputs": [
    {
     "name": "stdout",
     "output_type": "stream",
     "text": [
      "vedant sharma\n"
     ]
    }
   ],
   "source": [
    "name = first_name + \" \" + last_name\n",
    "print(name)"
   ]
  },
  {
   "cell_type": "code",
   "execution_count": 8,
   "id": "8653072d",
   "metadata": {
    "execution": {
     "iopub.execute_input": "2024-11-01T17:13:45.102842Z",
     "iopub.status.busy": "2024-11-01T17:13:45.101963Z",
     "iopub.status.idle": "2024-11-01T17:13:45.108428Z",
     "shell.execute_reply": "2024-11-01T17:13:45.107505Z"
    },
    "papermill": {
     "duration": 0.013587,
     "end_time": "2024-11-01T17:13:45.110567",
     "exception": false,
     "start_time": "2024-11-01T17:13:45.096980",
     "status": "completed"
    },
    "tags": []
   },
   "outputs": [
    {
     "data": {
      "text/plain": [
       "int"
      ]
     },
     "execution_count": 8,
     "metadata": {},
     "output_type": "execute_result"
    }
   ],
   "source": [
    "a = 3\n",
    "b = 5\n",
    "c = a + b\n",
    "type(c)"
   ]
  },
  {
   "cell_type": "code",
   "execution_count": 9,
   "id": "28964238",
   "metadata": {
    "execution": {
     "iopub.execute_input": "2024-11-01T17:13:45.120200Z",
     "iopub.status.busy": "2024-11-01T17:13:45.119806Z",
     "iopub.status.idle": "2024-11-01T17:13:45.126776Z",
     "shell.execute_reply": "2024-11-01T17:13:45.125810Z"
    },
    "papermill": {
     "duration": 0.014284,
     "end_time": "2024-11-01T17:13:45.129024",
     "exception": false,
     "start_time": "2024-11-01T17:13:45.114740",
     "status": "completed"
    },
    "tags": []
   },
   "outputs": [
    {
     "name": "stdout",
     "output_type": "stream",
     "text": [
      "False\n"
     ]
    },
    {
     "data": {
      "text/plain": [
       "bool"
      ]
     },
     "execution_count": 9,
     "metadata": {},
     "output_type": "execute_result"
    }
   ],
   "source": [
    "a = 3\n",
    "b = 5\n",
    "c = a > b\n",
    "\n",
    "print(c)\n",
    "\n",
    "type(c)"
   ]
  }
 ],
 "metadata": {
  "kaggle": {
   "accelerator": "none",
   "dataSources": [],
   "dockerImageVersionId": 30761,
   "isGpuEnabled": false,
   "isInternetEnabled": false,
   "language": "python",
   "sourceType": "notebook"
  },
  "kernelspec": {
   "display_name": "Python 3",
   "language": "python",
   "name": "python3"
  },
  "language_info": {
   "codemirror_mode": {
    "name": "ipython",
    "version": 3
   },
   "file_extension": ".py",
   "mimetype": "text/x-python",
   "name": "python",
   "nbconvert_exporter": "python",
   "pygments_lexer": "ipython3",
   "version": "3.10.14"
  },
  "papermill": {
   "default_parameters": {},
   "duration": 4.07257,
   "end_time": "2024-11-01T17:13:45.552794",
   "environment_variables": {},
   "exception": null,
   "input_path": "__notebook__.ipynb",
   "output_path": "__notebook__.ipynb",
   "parameters": {},
   "start_time": "2024-11-01T17:13:41.480224",
   "version": "2.6.0"
  }
 },
 "nbformat": 4,
 "nbformat_minor": 5
}

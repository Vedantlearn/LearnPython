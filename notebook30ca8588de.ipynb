{
 "cells": [
  {
   "cell_type": "code",
   "execution_count": 1,
   "id": "19621b16",
   "metadata": {
    "_cell_guid": "e40177d2-aa80-4bad-a896-0a8a3c7313b0",
    "_uuid": "58725ffe-0d26-419e-8f91-ab656daeaf5a",
    "execution": {
     "iopub.execute_input": "2024-10-13T17:14:39.274586Z",
     "iopub.status.busy": "2024-10-13T17:14:39.274154Z",
     "iopub.status.idle": "2024-10-13T17:14:40.343259Z",
     "shell.execute_reply": "2024-10-13T17:14:40.341937Z"
    },
    "papermill": {
     "duration": 1.077389,
     "end_time": "2024-10-13T17:14:40.346194",
     "exception": false,
     "start_time": "2024-10-13T17:14:39.268805",
     "status": "completed"
    },
    "tags": []
   },
   "outputs": [],
   "source": [
    "# This Python 3 environment comes with many helpful analytics libraries installed\n",
    "# It is defined by the kaggle/python Docker image: https://github.com/kaggle/docker-python\n",
    "# For example, here's several helpful packages to load\n",
    "\n",
    "import numpy as np # linear algebra\n",
    "import pandas as pd # data processing, CSV file I/O (e.g. pd.read_csv)\n",
    "\n",
    "# Input data files are available in the read-only \"../input/\" directory\n",
    "# For example, running this (by clicking run or pressing Shift+Enter) will list all files under the input directory\n",
    "\n",
    "import os\n",
    "for dirname, _, filenames in os.walk('/kaggle/input'):\n",
    "    for filename in filenames:\n",
    "        print(os.path.join(dirname, filename))\n",
    "\n",
    "# You can write up to 20GB to the current directory (/kaggle/working/) that gets preserved as output when you create a version using \"Save & Run All\" \n",
    "# You can also write temporary files to /kaggle/temp/, but they won't be saved outside of the current session"
   ]
  },
  {
   "cell_type": "markdown",
   "id": "2892c4a5",
   "metadata": {
    "papermill": {
     "duration": 0.002627,
     "end_time": "2024-10-13T17:14:40.352024",
     "exception": false,
     "start_time": "2024-10-13T17:14:40.349397",
     "status": "completed"
    },
    "tags": []
   },
   "source": [
    "[hello](https://www.google.com/webhp?hl=en&sa=X&ved=0ahUKEwjVnrP9qfeIAxWWWGwGHaG9CpQQPAgI)"
   ]
  },
  {
   "cell_type": "code",
   "execution_count": 2,
   "id": "6d78877e",
   "metadata": {
    "_cell_guid": "12ebfe3c-41c2-48af-9c11-c6a811fa0490",
    "_uuid": "de33e3f3-a4db-444e-a08e-84116250ce53",
    "execution": {
     "iopub.execute_input": "2024-10-13T17:14:40.359739Z",
     "iopub.status.busy": "2024-10-13T17:14:40.359182Z",
     "iopub.status.idle": "2024-10-13T17:14:40.364608Z",
     "shell.execute_reply": "2024-10-13T17:14:40.363383Z"
    },
    "papermill": {
     "duration": 0.012469,
     "end_time": "2024-10-13T17:14:40.367351",
     "exception": false,
     "start_time": "2024-10-13T17:14:40.354882",
     "status": "completed"
    },
    "tags": []
   },
   "outputs": [],
   "source": [
    "Gross_profit = 15\n",
    "revenue = 100"
   ]
  },
  {
   "cell_type": "code",
   "execution_count": 3,
   "id": "885a214b",
   "metadata": {
    "execution": {
     "iopub.execute_input": "2024-10-13T17:14:40.375005Z",
     "iopub.status.busy": "2024-10-13T17:14:40.374564Z",
     "iopub.status.idle": "2024-10-13T17:14:40.380013Z",
     "shell.execute_reply": "2024-10-13T17:14:40.378950Z"
    },
    "papermill": {
     "duration": 0.012093,
     "end_time": "2024-10-13T17:14:40.382570",
     "exception": false,
     "start_time": "2024-10-13T17:14:40.370477",
     "status": "completed"
    },
    "tags": []
   },
   "outputs": [],
   "source": [
    "gross_profit_margin = (Gross_profit / revenue)*100"
   ]
  },
  {
   "cell_type": "code",
   "execution_count": 4,
   "id": "e2459e2a",
   "metadata": {
    "execution": {
     "iopub.execute_input": "2024-10-13T17:14:40.390134Z",
     "iopub.status.busy": "2024-10-13T17:14:40.389671Z",
     "iopub.status.idle": "2024-10-13T17:14:40.399706Z",
     "shell.execute_reply": "2024-10-13T17:14:40.398315Z"
    },
    "papermill": {
     "duration": 0.016981,
     "end_time": "2024-10-13T17:14:40.402394",
     "exception": false,
     "start_time": "2024-10-13T17:14:40.385413",
     "status": "completed"
    },
    "tags": []
   },
   "outputs": [
    {
     "name": "stdout",
     "output_type": "stream",
     "text": [
      "15.0\n"
     ]
    },
    {
     "data": {
      "text/plain": [
       "float"
      ]
     },
     "execution_count": 4,
     "metadata": {},
     "output_type": "execute_result"
    }
   ],
   "source": [
    "print(gross_profit_margin)\n",
    "type(gross_profit_margin)"
   ]
  }
 ],
 "metadata": {
  "kaggle": {
   "accelerator": "none",
   "dataSources": [],
   "dockerImageVersionId": 30761,
   "isGpuEnabled": false,
   "isInternetEnabled": false,
   "language": "python",
   "sourceType": "notebook"
  },
  "kernelspec": {
   "display_name": "Python 3",
   "language": "python",
   "name": "python3"
  },
  "language_info": {
   "codemirror_mode": {
    "name": "ipython",
    "version": 3
   },
   "file_extension": ".py",
   "mimetype": "text/x-python",
   "name": "python",
   "nbconvert_exporter": "python",
   "pygments_lexer": "ipython3",
   "version": "3.10.14"
  },
  "papermill": {
   "default_parameters": {},
   "duration": 4.910036,
   "end_time": "2024-10-13T17:14:40.926304",
   "environment_variables": {},
   "exception": null,
   "input_path": "__notebook__.ipynb",
   "output_path": "__notebook__.ipynb",
   "parameters": {},
   "start_time": "2024-10-13T17:14:36.016268",
   "version": "2.6.0"
  }
 },
 "nbformat": 4,
 "nbformat_minor": 5
}

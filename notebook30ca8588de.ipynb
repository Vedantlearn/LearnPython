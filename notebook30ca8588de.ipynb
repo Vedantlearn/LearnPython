{
 "cells": [
  {
   "cell_type": "code",
   "execution_count": 1,
   "id": "aa243951",
   "metadata": {
    "_cell_guid": "e40177d2-aa80-4bad-a896-0a8a3c7313b0",
    "_uuid": "58725ffe-0d26-419e-8f91-ab656daeaf5a",
    "execution": {
     "iopub.execute_input": "2024-10-15T15:17:19.550050Z",
     "iopub.status.busy": "2024-10-15T15:17:19.549557Z",
     "iopub.status.idle": "2024-10-15T15:17:20.454464Z",
     "shell.execute_reply": "2024-10-15T15:17:20.453376Z"
    },
    "papermill": {
     "duration": 0.912617,
     "end_time": "2024-10-15T15:17:20.457179",
     "exception": false,
     "start_time": "2024-10-15T15:17:19.544562",
     "status": "completed"
    },
    "tags": []
   },
   "outputs": [],
   "source": [
    "# This Python 3 environment comes with many helpful analytics libraries installed\n",
    "# It is defined by the kaggle/python Docker image: https://github.com/kaggle/docker-python\n",
    "# For example, here's several helpful packages to load\n",
    "\n",
    "import numpy as np # linear algebra\n",
    "import pandas as pd # data processing, CSV file I/O (e.g. pd.read_csv)\n",
    "\n",
    "# Input data files are available in the read-only \"../input/\" directory\n",
    "# For example, running this (by clicking run or pressing Shift+Enter) will list all files under the input directory\n",
    "\n",
    "import os\n",
    "for dirname, _, filenames in os.walk('/kaggle/input'):\n",
    "    for filename in filenames:\n",
    "        print(os.path.join(dirname, filename))\n",
    "\n",
    "# You can write up to 20GB to the current directory (/kaggle/working/) that gets preserved as output when you create a version using \"Save & Run All\" \n",
    "# You can also write temporary files to /kaggle/temp/, but they won't be saved outside of the current session"
   ]
  },
  {
   "cell_type": "markdown",
   "id": "f6afbc71",
   "metadata": {
    "papermill": {
     "duration": 0.002358,
     "end_time": "2024-10-15T15:17:20.462285",
     "exception": false,
     "start_time": "2024-10-15T15:17:20.459927",
     "status": "completed"
    },
    "tags": []
   },
   "source": [
    "[hello](https://www.google.com/webhp?hl=en&sa=X&ved=0ahUKEwjVnrP9qfeIAxWWWGwGHaG9CpQQPAgI)"
   ]
  },
  {
   "cell_type": "code",
   "execution_count": 2,
   "id": "a950632b",
   "metadata": {
    "execution": {
     "iopub.execute_input": "2024-10-15T15:17:20.469825Z",
     "iopub.status.busy": "2024-10-15T15:17:20.469266Z",
     "iopub.status.idle": "2024-10-15T15:17:20.474733Z",
     "shell.execute_reply": "2024-10-15T15:17:20.473564Z"
    },
    "papermill": {
     "duration": 0.012224,
     "end_time": "2024-10-15T15:17:20.477135",
     "exception": false,
     "start_time": "2024-10-15T15:17:20.464911",
     "status": "completed"
    },
    "tags": []
   },
   "outputs": [],
   "source": [
    "first_name = \"vedant\"\n",
    "last_name = \"sharma\""
   ]
  },
  {
   "cell_type": "code",
   "execution_count": 3,
   "id": "460ca9a0",
   "metadata": {
    "execution": {
     "iopub.execute_input": "2024-10-15T15:17:20.483912Z",
     "iopub.status.busy": "2024-10-15T15:17:20.483495Z",
     "iopub.status.idle": "2024-10-15T15:17:20.489566Z",
     "shell.execute_reply": "2024-10-15T15:17:20.488235Z"
    },
    "papermill": {
     "duration": 0.012247,
     "end_time": "2024-10-15T15:17:20.491924",
     "exception": false,
     "start_time": "2024-10-15T15:17:20.479677",
     "status": "completed"
    },
    "tags": []
   },
   "outputs": [
    {
     "name": "stdout",
     "output_type": "stream",
     "text": [
      "vedant sharma\n"
     ]
    }
   ],
   "source": [
    "name = first_name + \" \" + last_name\n",
    "print(name)"
   ]
  },
  {
   "cell_type": "code",
   "execution_count": 4,
   "id": "c1793830",
   "metadata": {
    "execution": {
     "iopub.execute_input": "2024-10-15T15:17:20.499237Z",
     "iopub.status.busy": "2024-10-15T15:17:20.498369Z",
     "iopub.status.idle": "2024-10-15T15:17:20.506478Z",
     "shell.execute_reply": "2024-10-15T15:17:20.505388Z"
    },
    "papermill": {
     "duration": 0.014135,
     "end_time": "2024-10-15T15:17:20.508665",
     "exception": false,
     "start_time": "2024-10-15T15:17:20.494530",
     "status": "completed"
    },
    "tags": []
   },
   "outputs": [
    {
     "data": {
      "text/plain": [
       "int"
      ]
     },
     "execution_count": 4,
     "metadata": {},
     "output_type": "execute_result"
    }
   ],
   "source": [
    "a = 3\n",
    "b = 5\n",
    "c = a + b\n",
    "type(c)"
   ]
  },
  {
   "cell_type": "code",
   "execution_count": 5,
   "id": "b2c11c86",
   "metadata": {
    "execution": {
     "iopub.execute_input": "2024-10-15T15:17:20.516373Z",
     "iopub.status.busy": "2024-10-15T15:17:20.515264Z",
     "iopub.status.idle": "2024-10-15T15:17:20.523550Z",
     "shell.execute_reply": "2024-10-15T15:17:20.522169Z"
    },
    "papermill": {
     "duration": 0.014581,
     "end_time": "2024-10-15T15:17:20.526044",
     "exception": false,
     "start_time": "2024-10-15T15:17:20.511463",
     "status": "completed"
    },
    "tags": []
   },
   "outputs": [
    {
     "name": "stdout",
     "output_type": "stream",
     "text": [
      "False\n"
     ]
    },
    {
     "data": {
      "text/plain": [
       "bool"
      ]
     },
     "execution_count": 5,
     "metadata": {},
     "output_type": "execute_result"
    }
   ],
   "source": [
    "a = 3\n",
    "b = 5\n",
    "c = a > b\n",
    "\n",
    "print(c)\n",
    "\n",
    "type(c)"
   ]
  }
 ],
 "metadata": {
  "kaggle": {
   "accelerator": "none",
   "dataSources": [],
   "dockerImageVersionId": 30761,
   "isGpuEnabled": false,
   "isInternetEnabled": false,
   "language": "python",
   "sourceType": "notebook"
  },
  "kernelspec": {
   "display_name": "Python 3",
   "language": "python",
   "name": "python3"
  },
  "language_info": {
   "codemirror_mode": {
    "name": "ipython",
    "version": 3
   },
   "file_extension": ".py",
   "mimetype": "text/x-python",
   "name": "python",
   "nbconvert_exporter": "python",
   "pygments_lexer": "ipython3",
   "version": "3.10.14"
  },
  "papermill": {
   "default_parameters": {},
   "duration": 4.455663,
   "end_time": "2024-10-15T15:17:21.049964",
   "environment_variables": {},
   "exception": null,
   "input_path": "__notebook__.ipynb",
   "output_path": "__notebook__.ipynb",
   "parameters": {},
   "start_time": "2024-10-15T15:17:16.594301",
   "version": "2.6.0"
  }
 },
 "nbformat": 4,
 "nbformat_minor": 5
}
